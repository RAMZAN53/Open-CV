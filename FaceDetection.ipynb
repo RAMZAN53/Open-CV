{
 "cells": [
  {
   "cell_type": "code",
   "execution_count": null,
   "id": "3b21de74-b548-4c43-a44b-e43feed6e314",
   "metadata": {},
   "outputs": [],
   "source": [
    "import cv2"
   ]
  },
  {
   "cell_type": "code",
   "execution_count": null,
   "id": "7922c183-9ad4-4660-a868-e3dc23f45c1f",
   "metadata": {},
   "outputs": [],
   "source": [
    "face_cap=cv2.CascadeClassifier(\"C:/Python310/Lib/site-packages/cv2/data\")"
   ]
  },
  {
   "cell_type": "code",
   "execution_count": null,
   "id": "a8c46f3c-d8b0-4960-ad21-46684ad3f9a0",
   "metadata": {},
   "outputs": [],
   "source": [
    "vide_cap=cv2.VideoCapture(0)"
   ]
  },
  {
   "cell_type": "code",
   "execution_count": null,
   "id": "674c68dc-c5e5-46d0-85ac-cefe44f6f72d",
   "metadata": {},
   "outputs": [],
   "source": [
    "while True:\n",
    "    ret,video_data=video_cap.read()\n",
    "    col=cv2.cvtCOLOR(video_data,cv2.COLOR_BGR2GRAY)\n",
    "    faces=face_cap.detectMultiScale(\n",
    "        col,\n",
    "        scaleFactor=1.1,\n",
    "        minNeighbors=5,\n",
    "        minSize=(30,30),\n",
    "        flags=cv2.CASCADE_SCALE_IMAGE\n",
    "    )\n",
    "    for (x,y,w,h) in faces:\n",
    "        cv2.rectangle(video_data,(x,y),(x+w,y+h),(0.255,0),2)\n",
    "    cv2.imshow(\"Live Video\",video_data)\n",
    "    if cv2.waitKey(10)==ord(\"a\"):\n",
    "        break\n",
    "video_cap.release()"
   ]
  }
 ],
 "metadata": {
  "kernelspec": {
   "display_name": "",
   "name": ""
  },
  "language_info": {
   "name": ""
  }
 },
 "nbformat": 4,
 "nbformat_minor": 5
}
